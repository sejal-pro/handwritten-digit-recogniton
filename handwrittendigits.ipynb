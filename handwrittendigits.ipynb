{
  "nbformat": 4,
  "nbformat_minor": 0,
  "metadata": {
    "colab": {
      "name": "handwrittendigits.ipynb",
      "provenance": []
    },
    "kernelspec": {
      "name": "python3",
      "display_name": "Python 3"
    }
  },
  "cells": [
    {
      "cell_type": "markdown",
      "metadata": {
        "id": "da9uqtYTYA89"
      },
      "source": [
        "**Recognizing hand-written digits using scikit learn**"
      ]
    },
    {
      "cell_type": "code",
      "metadata": {
        "id": "3DSYLzbRXV4I"
      },
      "source": [
        "import matplotlib.pyplot as plt\r\n",
        "%matplotlib inline\r\n",
        "\r\n",
        "# Import datasets, classifiers and performance metrics\r\n",
        "from sklearn import datasets, svm, metrics\r\n",
        "from sklearn.model_selection import train_test_split\r\n",
        "\r\n",
        "# The digits dataset\r\n",
        "digits = datasets.load_digits()"
      ],
      "execution_count": 1,
      "outputs": []
    },
    {
      "cell_type": "markdown",
      "metadata": {
        "id": "x7XfbZbhYUe6"
      },
      "source": [
        "**Training of Data**"
      ]
    },
    {
      "cell_type": "code",
      "metadata": {
        "colab": {
          "base_uri": "https://localhost:8080/",
          "height": 268
        },
        "id": "IG5jv4zTXewU",
        "outputId": "91520e43-ba49-47bf-8725-54f3721a60cc"
      },
      "source": [
        "_, axes = plt.subplots(2, 4)\r\n",
        "images_and_labels = list(zip(digits.images, digits.target))\r\n",
        "for ax, (image, label) in zip(axes[0, :], images_and_labels[:4]):\r\n",
        "    ax.set_axis_off()\r\n",
        "    ax.imshow(image, cmap=plt.cm.gray_r, interpolation='nearest')\r\n",
        "    ax.set_title('Training: %i' % label)\r\n"
      ],
      "execution_count": 2,
      "outputs": [
        {
          "output_type": "display_data",
          "data": {
            "image/png": "[encoded data removed]",
            "text/plain": [
              "<Figure size 432x288 with 8 Axes>"
            ]
          },
          "metadata": {
            "tags": [],
            "needs_background": "light"
          }
        }
      ]
    },
    {
      "cell_type": "markdown",
      "metadata": {
        "id": "_KcLq6cDYdWA"
      },
      "source": [
        "**Flatten the Data**"
      ]
    },
    {
      "cell_type": "code",
      "metadata": {
        "id": "Ky66aU0XXnN_"
      },
      "source": [
        "\r\n",
        "n_samples = len(digits.images)\r\n",
        "data = digits.images.reshape((n_samples, -1))"
      ],
      "execution_count": 3,
      "outputs": []
    },
    {
      "cell_type": "markdown",
      "metadata": {
        "id": "sj3tqc6WYmkf"
      },
      "source": [
        "**Create a classifier: a support vector classifier**"
      ]
    },
    {
      "cell_type": "code",
      "metadata": {
        "id": "0qpacH6qXqgu"
      },
      "source": [
        "\r\n",
        "classifier = svm.SVC(gamma=0.001)"
      ],
      "execution_count": 4,
      "outputs": []
    },
    {
      "cell_type": "markdown",
      "metadata": {
        "id": "uuqXZsx5YrmQ"
      },
      "source": [
        "**Split data into train and test subsets**"
      ]
    },
    {
      "cell_type": "code",
      "metadata": {
        "id": "OQlICbp9XtqN"
      },
      "source": [
        "X_train, X_test, y_train, y_test = train_test_split(\r\n",
        "    data, digits.target, test_size=0.5, shuffle=False)"
      ],
      "execution_count": 5,
      "outputs": []
    },
    {
      "cell_type": "code",
      "metadata": {
        "colab": {
          "base_uri": "https://localhost:8080/"
        },
        "id": "6c683w6lXxYI",
        "outputId": "18a3288a-2084-4bdc-dfd0-7390354f605c"
      },
      "source": [
        "classifier.fit(X_train, y_train)"
      ],
      "execution_count": 6,
      "outputs": [
        {
          "output_type": "execute_result",
          "data": {
            "text/plain": [
              "SVC(C=1.0, break_ties=False, cache_size=200, class_weight=None, coef0=0.0,\n",
              "    decision_function_shape='ovr', degree=3, gamma=0.001, kernel='rbf',\n",
              "    max_iter=-1, probability=False, random_state=None, shrinking=True,\n",
              "    tol=0.001, verbose=False)"
            ]
          },
          "metadata": {
            "tags": []
          },
          "execution_count": 6
        }
      ]
    },
    {
      "cell_type": "markdown",
      "metadata": {
        "id": "Wj5SbIbUYxw4"
      },
      "source": [
        "**Now predict the value of the digit**"
      ]
    },
    {
      "cell_type": "code",
      "metadata": {
        "colab": {
          "base_uri": "https://localhost:8080/",
          "height": 238
        },
        "id": "VhWsEQGuX2qS",
        "outputId": "192e12f1-9827-4ba5-ffd8-7fa1fb915fc4"
      },
      "source": [
        "_, axes = plt.subplots(2, 4)\r\n",
        "images_and_labels = list(zip(digits.images, digits.target))\r\n",
        "for ax, (image, label) in zip(axes[0, :], images_and_labels[:4]):\r\n",
        "    ax.set_axis_off()\r\n",
        "    ax.imshow(image, cmap=plt.cm.gray_r, interpolation='nearest')\r\n",
        "    ax.set_title('Training: %i' % label)\r\n",
        "\r\n",
        "predicted = classifier.predict(X_test)\r\n",
        "\r\n",
        "images_and_predictions = list(zip(digits.images[n_samples // 2:], predicted))\r\n",
        "for ax, (image, prediction) in zip(axes[1, :], images_and_predictions[:4]):\r\n",
        "    ax.set_axis_off()\r\n",
        "    ax.imshow(image, cmap=plt.cm.gray_r, interpolation='nearest')\r\n",
        "    ax.set_title('Prediction: %i' % prediction)"
      ],
      "execution_count": 7,
      "outputs": [
        {
          "output_type": "display_data",
          "data": {
            "image/png": "[encoded data removed]",
            "text/plain": [
              "<Figure size 432x288 with 8 Axes>"
            ]
          },
          "metadata": {
            "tags": [],
            "needs_background": "light"
          }
        }
      ]
    },
    {
      "cell_type": "code",
      "metadata": {
        "colab": {
          "base_uri": "https://localhost:8080/",
          "height": 862
        },
        "id": "cPZMfOTIX7YI",
        "outputId": "1b8fdf33-4639-4f70-8e44-3c4ad83a6abc"
      },
      "source": [
        "print(\"Classification report for classifier %s:\\n%s\\n\"\r\n",
        "      % (classifier, metrics.classification_report(y_test, predicted)))\r\n",
        "disp = metrics.plot_confusion_matrix(classifier, X_test, y_test)\r\n",
        "disp.figure_.suptitle(\"Confusion Matrix\")\r\n",
        "print(\"Confusion matrix:\\n%s\" % disp.confusion_matrix)\r\n",
        "plt.show()"
      ],
      "execution_count": 8,
      "outputs": [
        {
          "output_type": "stream",
          "text": [
            "Classification report for classifier SVC(C=1.0, break_ties=False, cache_size=200, class_weight=None, coef0=0.0,\n",
            "    decision_function_shape='ovr', degree=3, gamma=0.001, kernel='rbf',\n",
            "    max_iter=-1, probability=False, random_state=None, shrinking=True,\n",
            "    tol=0.001, verbose=False):\n",
            "              precision    recall  f1-score   support\n",
            "\n",
            "           0       1.00      0.99      0.99        88\n",
            "           1       0.99      0.97      0.98        91\n",
            "           2       0.99      0.99      0.99        86\n",
            "           3       0.98      0.87      0.92        91\n",
            "           4       0.99      0.96      0.97        92\n",
            "           5       0.95      0.97      0.96        91\n",
            "           6       0.99      0.99      0.99        91\n",
            "           7       0.96      0.99      0.97        89\n",
            "           8       0.94      1.00      0.97        88\n",
            "           9       0.93      0.98      0.95        92\n",
            "\n",
            "    accuracy                           0.97       899\n",
            "   macro avg       0.97      0.97      0.97       899\n",
            "weighted avg       0.97      0.97      0.97       899\n",
            "\n",
            "\n",
            "Confusion matrix:\n",
            "[[87  0  0  0  1  0  0  0  0  0]\n",
            " [ 0 88  1  0  0  0  0  0  1  1]\n",
            " [ 0  0 85  1  0  0  0  0  0  0]\n",
            " [ 0  0  0 79  0  3  0  4  5  0]\n",
            " [ 0  0  0  0 88  0  0  0  0  4]\n",
            " [ 0  0  0  0  0 88  1  0  0  2]\n",
            " [ 0  1  0  0  0  0 90  0  0  0]\n",
            " [ 0  0  0  0  0  1  0 88  0  0]\n",
            " [ 0  0  0  0  0  0  0  0 88  0]\n",
            " [ 0  0  0  1  0  1  0  0  0 90]]\n"
          ],
          "name": "stdout"
        },
        {
          "output_type": "display_data",
          "data": {
            "image/png": "[encoded data removed]",
            "text/plain": [
              "<Figure size 432x288 with 2 Axes>"
            ]
          },
          "metadata": {
            "tags": [],
            "needs_background": "light"
          }
        }
      ]
    }
  ]
}